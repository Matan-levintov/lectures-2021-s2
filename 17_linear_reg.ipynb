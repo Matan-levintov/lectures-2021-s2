{
 "cells": [
  {
   "cell_type": "markdown",
   "metadata": {
    "slideshow": {
     "slide_type": "slide"
    }
   },
   "source": [
    "# Foundations of Computational Economics #17\n",
    "\n",
    "by Fedor Iskhakov, ANU\n",
    "\n",
    "<img src=\"_static/img/dag3logo.png\" style=\"width:256px;\">"
   ]
  },
  {
   "cell_type": "markdown",
   "metadata": {
    "slideshow": {
     "slide_type": "fragment"
    }
   },
   "source": [
    "## Linear regression using Pandas and Numpy\n",
    "\n",
    "<img src=\"_static/img/lab.png\" style=\"width:64px;\">"
   ]
  },
  {
   "cell_type": "markdown",
   "metadata": {
    "slideshow": {
     "slide_type": "subslide"
    }
   },
   "source": [
    "<img src=\"_static/img/youtube.png\" style=\"width:65px;\">\n",
    "\n",
    "[https://youtu.be/LafDXp28IRE](https://youtu.be/LafDXp28IRE)\n",
    "\n",
    "Description: Using Numpy and Pandas to estimate simple regression."
   ]
  },
  {
   "cell_type": "markdown",
   "metadata": {
    "slideshow": {
     "slide_type": "slide"
    }
   },
   "source": [
    "### Linear regression\n",
    "\n",
    "Recall the classic linear regression model with data in columns of\n",
    "$ (X,y) $, where $ X $ are independent variables and $ y $ is\n",
    "the dependent variable.\n",
    "Parameter vector to be estimated is $ \\beta $, and we assume that\n",
    "errors follow $ \\varepsilon \\sim N(0, \\sigma) $\n",
    "\n",
    "$$\n",
    "y = X \\beta + \\varepsilon \\quad \\quad \\varepsilon \\sim N(0, \\sigma)\n",
    "$$\n",
    "\n",
    "Let $ \\hat{\\beta} $ denote the estimate of the parameters $ \\beta $.\n",
    "To find it, we minimize the sum of squares of the residuals\n",
    "$ e = y - X \\hat{\\beta} $, i.e. $ e'e \\longrightarrow_{\\hat{\\beta}} \\min $,\n",
    "which leads to the well known OLS formula\n",
    "\n",
    "$$\n",
    "\\hat{\\beta} = (X'X)^{-1} X' y\n",
    "$$\n",
    "\n",
    "The mean standard error (MSE) of the regression is calculated as $ s = \\sqrt{\\frac{1}{n-k} e'e} $,\n",
    "where $ n $ is the number of observations and $ k $ is the number of parameters (elements in $ \\beta $).\n",
    "\n",
    "The variance-covariance matrix of the estimates is given by $ \\hat{\\Sigma} = s^2 (X'X)^{-1} $.\n",
    "The square root of the diagonal elements of this matrix are them standard deviations of the estimates, and give us the measure of the accuracy of the estimated parameters.\n",
    "\n",
    "[William Greene “Econometric Analysis”](https://books.google.com.au/books?id=LWQuAAAAQBAJ&dq=greene%20econometric%20analysis)"
   ]
  },
  {
   "cell_type": "code",
   "execution_count": 4,
   "metadata": {
    "hide-output": false,
    "slideshow": {
     "slide_type": "slide"
    },
    "ExecuteTime": {
     "end_time": "2023-10-12T17:14:04.873674Z",
     "start_time": "2023-10-12T17:14:04.854058Z"
    }
   },
   "outputs": [],
   "source": [
    "from typing import Any\n",
    "\n",
    "import numpy as np\n",
    "from numpy import ndarray, dtype, floating\n",
    "\n",
    "\n",
    "def ols(X: object, y: object, addConstant: object = True, verbose: object = True) -> object:\n",
    "    '''Return the OLS estimates and their variance-covariance matrix for the given data X,y\n",
    "    When addConstant is True, constant is added to X\n",
    "    When verbose is True, a report is printed\n",
    "    '''\n",
    "    beta = np.linalg.inv(X.T @ X ) @ X.T @ y\n",
    "    e = y - X @ beta \n",
    "    n, k = X.shape  #The number of columns in X is the number of beta's and the number of rows is the number of observations\n",
    "    s2 = e.T @ e /(n-k)\n",
    "    Sigma = s2 * (np.linalg.inv(X.T @ X))\n",
    "    return beta, Sigma"
   ]
  },
  {
   "cell_type": "code",
   "execution_count": 40,
   "metadata": {
    "hide-output": false,
    "slideshow": {
     "slide_type": "slide"
    },
    "ExecuteTime": {
     "end_time": "2023-10-13T08:42:30.493215Z",
     "start_time": "2023-10-13T08:42:30.483279Z"
    }
   },
   "outputs": [
    {
     "name": "stdout",
     "output_type": "stream",
     "text": [
      "[[5.  3. ]\n",
      " [2.  3. ]\n",
      " [3.  1. ]\n",
      " [2.  8. ]\n",
      " [4.5 2.5]\n",
      " [2.5 1.5]\n",
      " [4.3 4.2]\n",
      " [0.5 3.5]\n",
      " [1.  5. ]\n",
      " [3.  8. ]]\n",
      " \n",
      " [[ 1.234]\n",
      " [-0.345]]\n",
      " \n",
      " [[7.85093226]\n",
      " [4.27317363]\n",
      " [6.01866598]\n",
      " [1.8784508 ]\n",
      " [7.32912468]\n",
      " [4.86778349]\n",
      " [5.99657569]\n",
      " [1.64335294]\n",
      " [2.16387243]\n",
      " [3.35924365]]\n"
     ]
    },
    {
     "ename": "NameError",
     "evalue": "name 'ndarray' is not defined",
     "output_type": "error",
     "traceback": [
      "\u001B[0;31m---------------------------------------------------------------------------\u001B[0m",
      "\u001B[0;31mNameError\u001B[0m                                 Traceback (most recent call last)",
      "Cell \u001B[0;32mIn[40], line 15\u001B[0m\n\u001B[1;32m     13\u001B[0m y \u001B[38;5;241m=\u001B[39m X \u001B[38;5;241m@\u001B[39m truebeta \u001B[38;5;241m+\u001B[39m \u001B[38;5;241m2.5\u001B[39m \u001B[38;5;241m+\u001B[39m np\u001B[38;5;241m.\u001B[39mrandom\u001B[38;5;241m.\u001B[39mnormal(size\u001B[38;5;241m=\u001B[39m(X\u001B[38;5;241m.\u001B[39mshape[\u001B[38;5;241m0\u001B[39m],\u001B[38;5;241m1\u001B[39m),scale\u001B[38;5;241m=\u001B[39m\u001B[38;5;241m0.2\u001B[39m)\n\u001B[1;32m     14\u001B[0m \u001B[38;5;28mprint\u001B[39m(X,truebeta,y,sep \u001B[38;5;241m=\u001B[39m \u001B[38;5;124m'\u001B[39m\u001B[38;5;130;01m\\n\u001B[39;00m\u001B[38;5;124m \u001B[39m\u001B[38;5;130;01m\\n\u001B[39;00m\u001B[38;5;124m \u001B[39m\u001B[38;5;124m'\u001B[39m)\n\u001B[0;32m---> 15\u001B[0m beta: ndarray[Any, dtype[floating[Any]]] \u001B[38;5;241m|\u001B[39m Any\n\u001B[1;32m     16\u001B[0m beta,S\u001B[38;5;241m=\u001B[39mols(X,y)\n\u001B[1;32m     17\u001B[0m beta,S\u001B[38;5;241m=\u001B[39mols(X,y,addConstant\u001B[38;5;241m=\u001B[39m\u001B[38;5;28;01mFalse\u001B[39;00m)\n",
      "\u001B[0;31mNameError\u001B[0m: name 'ndarray' is not defined"
     ]
    }
   ],
   "source": [
    "# test on small dataset\n",
    "X = np.array([[5, 3],\n",
    "              [2, 3],\n",
    "              [3, 1],\n",
    "              [2, 8],\n",
    "              [4.5, 2.5],\n",
    "              [2.5, 1.5],\n",
    "              [4.3, 4.2],\n",
    "              [0.5, 3.5],\n",
    "              [1, 5],\n",
    "              [3, 8]])\n",
    "truebeta = np.array([1.234,-0.345])[:,np.newaxis]  # column vector\n",
    "y = X @ truebeta + 2.5 + np.random.normal(size=(X.shape[0],1),scale=0.2)\n",
    "print(X,truebeta,y,sep = '\\n \\n ')\n",
    "beta: ndarray[Any, dtype[floating[Any]]] | Any\n",
    "beta,S=ols(X,y)\n",
    "beta,S=ols(X,y,addConstant=False)"
   ]
  },
  {
   "cell_type": "code",
   "execution_count": 6,
   "metadata": {
    "hide-output": false,
    "slideshow": {
     "slide_type": "slide"
    },
    "ExecuteTime": {
     "end_time": "2023-10-12T17:14:04.890054Z",
     "start_time": "2023-10-12T17:14:04.864190Z"
    }
   },
   "outputs": [
    {
     "ename": "LinAlgError",
     "evalue": "0-dimensional array given. Array must be at least two-dimensional",
     "output_type": "error",
     "traceback": [
      "\u001B[0;31m---------------------------------------------------------------------------\u001B[0m",
      "\u001B[0;31mLinAlgError\u001B[0m                               Traceback (most recent call last)",
      "Cell \u001B[0;32mIn[6], line 5\u001B[0m\n\u001B[1;32m      2\u001B[0m X \u001B[38;5;241m=\u001B[39m np\u001B[38;5;241m.\u001B[39marray([\u001B[38;5;241m1\u001B[39m,\u001B[38;5;241m2\u001B[39m,\u001B[38;5;241m3\u001B[39m,\u001B[38;5;241m4\u001B[39m,\u001B[38;5;241m5\u001B[39m,\u001B[38;5;241m6\u001B[39m,\u001B[38;5;241m7\u001B[39m,\u001B[38;5;241m8\u001B[39m,\u001B[38;5;241m9\u001B[39m,\u001B[38;5;241m10\u001B[39m])\n\u001B[1;32m      3\u001B[0m y \u001B[38;5;241m=\u001B[39m np\u001B[38;5;241m.\u001B[39marray([\u001B[38;5;241m9.4\u001B[39m,\u001B[38;5;241m8.1\u001B[39m,\u001B[38;5;241m7.7\u001B[39m,\u001B[38;5;241m6.3\u001B[39m,\u001B[38;5;241m5.7\u001B[39m,\u001B[38;5;241m4.4\u001B[39m,\u001B[38;5;241m3.0\u001B[39m,\u001B[38;5;241m2.1\u001B[39m,\u001B[38;5;241m1.1\u001B[39m,\u001B[38;5;241m0.8\u001B[39m])\n\u001B[0;32m----> 5\u001B[0m beta,S\u001B[38;5;241m=\u001B[39mols(X,y)\n\u001B[1;32m      6\u001B[0m beta,S\u001B[38;5;241m=\u001B[39mols(X,y,addConstant\u001B[38;5;241m=\u001B[39m\u001B[38;5;28;01mFalse\u001B[39;00m)\n",
      "Cell \u001B[0;32mIn[4], line 7\u001B[0m, in \u001B[0;36mols\u001B[0;34m(X, y, addConstant, verbose)\u001B[0m\n\u001B[1;32m      2\u001B[0m \u001B[38;5;28;01mdef\u001B[39;00m \u001B[38;5;21mols\u001B[39m(X,y,addConstant\u001B[38;5;241m=\u001B[39m\u001B[38;5;28;01mTrue\u001B[39;00m,verbose\u001B[38;5;241m=\u001B[39m\u001B[38;5;28;01mTrue\u001B[39;00m):\n\u001B[1;32m      3\u001B[0m \u001B[38;5;250m    \u001B[39m\u001B[38;5;124;03m'''Return the OLS estimates and their variance-covariance matrix for the given data X,y\u001B[39;00m\n\u001B[1;32m      4\u001B[0m \u001B[38;5;124;03m    When addConstant is True, constant is added to X\u001B[39;00m\n\u001B[1;32m      5\u001B[0m \u001B[38;5;124;03m    When verbose is True, a report is printed\u001B[39;00m\n\u001B[1;32m      6\u001B[0m \u001B[38;5;124;03m    '''\u001B[39;00m\n\u001B[0;32m----> 7\u001B[0m     beta \u001B[38;5;241m=\u001B[39m np\u001B[38;5;241m.\u001B[39mlinalg\u001B[38;5;241m.\u001B[39minv(X\u001B[38;5;241m.\u001B[39mT \u001B[38;5;241m@\u001B[39m X ) \u001B[38;5;241m@\u001B[39m X\u001B[38;5;241m.\u001B[39mT \u001B[38;5;241m@\u001B[39m y\n\u001B[1;32m      8\u001B[0m     e \u001B[38;5;241m=\u001B[39m y \u001B[38;5;241m-\u001B[39m X \u001B[38;5;241m@\u001B[39m beta \n\u001B[1;32m      9\u001B[0m     n, k \u001B[38;5;241m=\u001B[39m X\u001B[38;5;241m.\u001B[39mshape \u001B[38;5;66;03m#The number of colums in X is the number of beta's and the number of rows is the number of observations\u001B[39;00m\n",
      "File \u001B[0;32m<__array_function__ internals>:200\u001B[0m, in \u001B[0;36minv\u001B[0;34m(*args, **kwargs)\u001B[0m\n",
      "File \u001B[0;32m/opt/homebrew/anaconda3/lib/python3.11/site-packages/numpy/linalg/linalg.py:532\u001B[0m, in \u001B[0;36minv\u001B[0;34m(a)\u001B[0m\n\u001B[1;32m    471\u001B[0m \u001B[38;5;250m\u001B[39m\u001B[38;5;124;03m\"\"\"\u001B[39;00m\n\u001B[1;32m    472\u001B[0m \u001B[38;5;124;03mCompute the (multiplicative) inverse of a matrix.\u001B[39;00m\n\u001B[1;32m    473\u001B[0m \n\u001B[0;32m   (...)\u001B[0m\n\u001B[1;32m    529\u001B[0m \n\u001B[1;32m    530\u001B[0m \u001B[38;5;124;03m\"\"\"\u001B[39;00m\n\u001B[1;32m    531\u001B[0m a, wrap \u001B[38;5;241m=\u001B[39m _makearray(a)\n\u001B[0;32m--> 532\u001B[0m _assert_stacked_2d(a)\n\u001B[1;32m    533\u001B[0m _assert_stacked_square(a)\n\u001B[1;32m    534\u001B[0m t, result_t \u001B[38;5;241m=\u001B[39m _commonType(a)\n",
      "File \u001B[0;32m/opt/homebrew/anaconda3/lib/python3.11/site-packages/numpy/linalg/linalg.py:183\u001B[0m, in \u001B[0;36m_assert_stacked_2d\u001B[0;34m(*arrays)\u001B[0m\n\u001B[1;32m    181\u001B[0m \u001B[38;5;28;01mfor\u001B[39;00m a \u001B[38;5;129;01min\u001B[39;00m arrays:\n\u001B[1;32m    182\u001B[0m     \u001B[38;5;28;01mif\u001B[39;00m a\u001B[38;5;241m.\u001B[39mndim \u001B[38;5;241m<\u001B[39m \u001B[38;5;241m2\u001B[39m:\n\u001B[0;32m--> 183\u001B[0m         \u001B[38;5;28;01mraise\u001B[39;00m LinAlgError(\u001B[38;5;124m'\u001B[39m\u001B[38;5;132;01m%d\u001B[39;00m\u001B[38;5;124m-dimensional array given. Array must be \u001B[39m\u001B[38;5;124m'\u001B[39m\n\u001B[1;32m    184\u001B[0m                 \u001B[38;5;124m'\u001B[39m\u001B[38;5;124mat least two-dimensional\u001B[39m\u001B[38;5;124m'\u001B[39m \u001B[38;5;241m%\u001B[39m a\u001B[38;5;241m.\u001B[39mndim)\n",
      "\u001B[0;31mLinAlgError\u001B[0m: 0-dimensional array given. Array must be at least two-dimensional"
     ]
    }
   ],
   "source": [
    "# test with one dimensional arrays\n",
    "X = np.array([1,2,3,4,5,6,7,8,9,10])\n",
    "y = np.array([9.4,8.1,7.7,6.3,5.7,4.4,3.0,2.1,1.1,0.8])\n",
    "\n",
    "beta,S=ols(X,y)\n",
    "beta,S=ols(X,y,addConstant=False)"
   ]
  },
  {
   "cell_type": "code",
   "execution_count": null,
   "metadata": {
    "hide-output": false,
    "slideshow": {
     "slide_type": "slide"
    },
    "ExecuteTime": {
     "start_time": "2023-10-12T17:14:04.882042Z"
    }
   },
   "outputs": [],
   "source": [
    "import numpy as np\n",
    "def ols(X,y,addConstant=True,verbose=True):\n",
    "    '''Return the OLS estimates and their variance-covariance matrix for the given data X,y\n",
    "    When addConstant is True, constant is added to X\n",
    "    When verbose is True, a report is printed\n",
    "    '''\n",
    "    y = y.squeeze()  # we are better off if y is one-dimensional\n",
    "    if addConstant and X.ndim==1:\n",
    "        X = np.hstack((np.ones(X.shape[0])[:,np.newaxis],X[:,np.newaxis]))\n",
    "        k = 2\n",
    "    elif addConstant and X.ndim>1:\n",
    "        X = np.hstack((np.ones(X.shape[0])[:,np.newaxis],X))\n",
    "        k = X.shape[1]+1\n",
    "    elif X.ndim==1:\n",
    "        X = X[:,np.newaxis]\n",
    "    xxinv = np.linalg.inv(X.T@X)  # inv(X'X)\n",
    "    beta = xxinv @ X.T@y  # OLS estimates\n",
    "    e = y - X@beta  # residuals\n",
    "    n,k = X.shape  # number of observations and parameters\n",
    "    s2 = e.T@e / (n-k)\n",
    "    Sigma = s2*xxinv\n",
    "    if verbose:\n",
    "        # report the estimates\n",
    "        print('Number of observations: {:d}\\nNumber of parameters: {:d}'.format(n,k))\n",
    "        print('Parameter estimates (std in brackets)')\n",
    "        for b,s in zip(beta,np.sqrt(np.diag(Sigma))):\n",
    "            print('{:10.5f} ({:10.5f})'.format(b,s))\n",
    "        print('MSE = {:1.5f}\\n'.format(np.sqrt(s2)))\n",
    "    return beta,Sigma"
   ]
  },
  {
   "cell_type": "markdown",
   "metadata": {
    "slideshow": {
     "slide_type": "slide"
    }
   },
   "source": [
    "### Data on median wages\n",
    "\n",
    "**The Economic Guide To Picking A College Major**\n",
    "\n",
    "Data dictionary available at\n",
    "\n",
    "[https://github.com/fivethirtyeight/data/tree/master/college-majors](https://github.com/fivethirtyeight/data/tree/master/college-majors)"
   ]
  },
  {
   "cell_type": "code",
   "execution_count": 10,
   "metadata": {
    "hide-output": false,
    "slideshow": {
     "slide_type": "fragment"
    },
    "ExecuteTime": {
     "end_time": "2023-10-12T17:15:49.272066Z",
     "start_time": "2023-10-12T17:15:49.266550Z"
    }
   },
   "outputs": [],
   "source": [
    "import pandas as pd\n",
    "# same data as in video 15\n",
    "data = pd.read_csv('./_static/data/recent-grads.csv')"
   ]
  },
  {
   "cell_type": "code",
   "execution_count": 11,
   "metadata": {
    "hide-output": false,
    "slideshow": {
     "slide_type": "slide"
    },
    "ExecuteTime": {
     "end_time": "2023-10-12T17:15:49.813768Z",
     "start_time": "2023-10-12T17:15:49.810489Z"
    }
   },
   "outputs": [
    {
     "name": "stdout",
     "output_type": "stream",
     "text": [
      "<class 'pandas.core.frame.DataFrame'>\n",
      "RangeIndex: 173 entries, 0 to 172\n",
      "Data columns (total 21 columns):\n",
      " #   Column                Non-Null Count  Dtype  \n",
      "---  ------                --------------  -----  \n",
      " 0   Rank                  173 non-null    int64  \n",
      " 1   Major_code            173 non-null    int64  \n",
      " 2   Major                 173 non-null    object \n",
      " 3   Total                 172 non-null    float64\n",
      " 4   Men                   172 non-null    float64\n",
      " 5   Women                 172 non-null    float64\n",
      " 6   Major_category        173 non-null    object \n",
      " 7   ShareWomen            172 non-null    float64\n",
      " 8   Sample_size           173 non-null    int64  \n",
      " 9   Employed              173 non-null    int64  \n",
      " 10  Full_time             173 non-null    int64  \n",
      " 11  Part_time             173 non-null    int64  \n",
      " 12  Full_time_year_round  173 non-null    int64  \n",
      " 13  Unemployed            173 non-null    int64  \n",
      " 14  Unemployment_rate     173 non-null    float64\n",
      " 15  Median                173 non-null    int64  \n",
      " 16  P25th                 173 non-null    int64  \n",
      " 17  P75th                 173 non-null    int64  \n",
      " 18  College_jobs          173 non-null    int64  \n",
      " 19  Non_college_jobs      173 non-null    int64  \n",
      " 20  Low_wage_jobs         173 non-null    int64  \n",
      "dtypes: float64(5), int64(14), object(2)\n",
      "memory usage: 28.5+ KB\n"
     ]
    }
   ],
   "source": [
    "data.info()"
   ]
  },
  {
   "cell_type": "code",
   "execution_count": 12,
   "metadata": {
    "hide-output": false,
    "slideshow": {
     "slide_type": "slide"
    },
    "ExecuteTime": {
     "end_time": "2023-10-12T17:15:50.544519Z",
     "start_time": "2023-10-12T17:15:50.537826Z"
    }
   },
   "outputs": [
    {
     "data": {
      "text/plain": "    Rank  Major_code                                      Major    Total  \\\n0      1        2419                      PETROLEUM ENGINEERING   2339.0   \n1      2        2416             MINING AND MINERAL ENGINEERING    756.0   \n2      3        2415                  METALLURGICAL ENGINEERING    856.0   \n3      4        2417  NAVAL ARCHITECTURE AND MARINE ENGINEERING   1258.0   \n4      5        2405                       CHEMICAL ENGINEERING  32260.0   \n5      6        2418                        NUCLEAR ENGINEERING   2573.0   \n6      7        6202                          ACTUARIAL SCIENCE   3777.0   \n7      8        5001                 ASTRONOMY AND ASTROPHYSICS   1792.0   \n8      9        2414                     MECHANICAL ENGINEERING  91227.0   \n9     10        2408                     ELECTRICAL ENGINEERING  81527.0   \n10    11        2407                       COMPUTER ENGINEERING  41542.0   \n11    12        2401                      AEROSPACE ENGINEERING  15058.0   \n12    13        2404                     BIOMEDICAL ENGINEERING  14955.0   \n13    14        5008                          MATERIALS SCIENCE   4279.0   \n14    15        2409  ENGINEERING MECHANICS PHYSICS AND SCIENCE   4321.0   \n\n        Men    Women     Major_category  ShareWomen  Sample_size  Employed  \\\n0    2057.0    282.0        Engineering    0.120564           36      1976   \n1     679.0     77.0        Engineering    0.101852            7       640   \n2     725.0    131.0        Engineering    0.153037            3       648   \n3    1123.0    135.0        Engineering    0.107313           16       758   \n4   21239.0  11021.0        Engineering    0.341631          289     25694   \n5    2200.0    373.0        Engineering    0.144967           17      1857   \n6    2110.0   1667.0           Business    0.441356           51      2912   \n7     832.0    960.0  Physical Sciences    0.535714           10      1526   \n8   80320.0  10907.0        Engineering    0.119559         1029     76442   \n9   65511.0  16016.0        Engineering    0.196450          631     61928   \n10  33258.0   8284.0        Engineering    0.199413          399     32506   \n11  12953.0   2105.0        Engineering    0.139793          147     11391   \n12   8407.0   6548.0        Engineering    0.437847           79     10047   \n13   2949.0   1330.0        Engineering    0.310820           22      3307   \n14   3526.0    795.0        Engineering    0.183985           30      3608   \n\n    ...  Part_time  Full_time_year_round  Unemployed  Unemployment_rate  \\\n0   ...        270                  1207          37           0.018381   \n1   ...        170                   388          85           0.117241   \n2   ...        133                   340          16           0.024096   \n3   ...        150                   692          40           0.050125   \n4   ...       5180                 16697        1672           0.061098   \n5   ...        264                  1449         400           0.177226   \n6   ...        296                  2482         308           0.095652   \n7   ...        553                   827          33           0.021167   \n8   ...      13101                 54639        4650           0.057342   \n9   ...      12695                 41413        3895           0.059174   \n10  ...       5146                 23621        2275           0.065409   \n11  ...       2724                  8790         794           0.065162   \n12  ...       2694                  5986        1019           0.092084   \n13  ...        878                  1967          78           0.023043   \n14  ...        811                  2004          23           0.006334   \n\n    Median  P25th   P75th  College_jobs  Non_college_jobs  Low_wage_jobs  \n0   110000  95000  125000          1534               364            193  \n1    75000  55000   90000           350               257             50  \n2    73000  50000  105000           456               176              0  \n3    70000  43000   80000           529               102              0  \n4    65000  50000   75000         18314              4440            972  \n5    65000  50000  102000          1142               657            244  \n6    62000  53000   72000          1768               314            259  \n7    62000  31500  109000           972               500            220  \n8    60000  48000   70000         52844             16384           3253  \n9    60000  45000   72000         45829             10874           3170  \n10   60000  45000   75000         23694              5721            980  \n11   60000  42000   70000          8184              2425            372  \n12   60000  36000   70000          6439              2471            789  \n13   60000  39000   65000          2626               391             81  \n14   58000  25000   74000          2439               947            263  \n\n[15 rows x 21 columns]",
      "text/html": "<div>\n<style scoped>\n    .dataframe tbody tr th:only-of-type {\n        vertical-align: middle;\n    }\n\n    .dataframe tbody tr th {\n        vertical-align: top;\n    }\n\n    .dataframe thead th {\n        text-align: right;\n    }\n</style>\n<table border=\"1\" class=\"dataframe\">\n  <thead>\n    <tr style=\"text-align: right;\">\n      <th></th>\n      <th>Rank</th>\n      <th>Major_code</th>\n      <th>Major</th>\n      <th>Total</th>\n      <th>Men</th>\n      <th>Women</th>\n      <th>Major_category</th>\n      <th>ShareWomen</th>\n      <th>Sample_size</th>\n      <th>Employed</th>\n      <th>...</th>\n      <th>Part_time</th>\n      <th>Full_time_year_round</th>\n      <th>Unemployed</th>\n      <th>Unemployment_rate</th>\n      <th>Median</th>\n      <th>P25th</th>\n      <th>P75th</th>\n      <th>College_jobs</th>\n      <th>Non_college_jobs</th>\n      <th>Low_wage_jobs</th>\n    </tr>\n  </thead>\n  <tbody>\n    <tr>\n      <th>0</th>\n      <td>1</td>\n      <td>2419</td>\n      <td>PETROLEUM ENGINEERING</td>\n      <td>2339.0</td>\n      <td>2057.0</td>\n      <td>282.0</td>\n      <td>Engineering</td>\n      <td>0.120564</td>\n      <td>36</td>\n      <td>1976</td>\n      <td>...</td>\n      <td>270</td>\n      <td>1207</td>\n      <td>37</td>\n      <td>0.018381</td>\n      <td>110000</td>\n      <td>95000</td>\n      <td>125000</td>\n      <td>1534</td>\n      <td>364</td>\n      <td>193</td>\n    </tr>\n    <tr>\n      <th>1</th>\n      <td>2</td>\n      <td>2416</td>\n      <td>MINING AND MINERAL ENGINEERING</td>\n      <td>756.0</td>\n      <td>679.0</td>\n      <td>77.0</td>\n      <td>Engineering</td>\n      <td>0.101852</td>\n      <td>7</td>\n      <td>640</td>\n      <td>...</td>\n      <td>170</td>\n      <td>388</td>\n      <td>85</td>\n      <td>0.117241</td>\n      <td>75000</td>\n      <td>55000</td>\n      <td>90000</td>\n      <td>350</td>\n      <td>257</td>\n      <td>50</td>\n    </tr>\n    <tr>\n      <th>2</th>\n      <td>3</td>\n      <td>2415</td>\n      <td>METALLURGICAL ENGINEERING</td>\n      <td>856.0</td>\n      <td>725.0</td>\n      <td>131.0</td>\n      <td>Engineering</td>\n      <td>0.153037</td>\n      <td>3</td>\n      <td>648</td>\n      <td>...</td>\n      <td>133</td>\n      <td>340</td>\n      <td>16</td>\n      <td>0.024096</td>\n      <td>73000</td>\n      <td>50000</td>\n      <td>105000</td>\n      <td>456</td>\n      <td>176</td>\n      <td>0</td>\n    </tr>\n    <tr>\n      <th>3</th>\n      <td>4</td>\n      <td>2417</td>\n      <td>NAVAL ARCHITECTURE AND MARINE ENGINEERING</td>\n      <td>1258.0</td>\n      <td>1123.0</td>\n      <td>135.0</td>\n      <td>Engineering</td>\n      <td>0.107313</td>\n      <td>16</td>\n      <td>758</td>\n      <td>...</td>\n      <td>150</td>\n      <td>692</td>\n      <td>40</td>\n      <td>0.050125</td>\n      <td>70000</td>\n      <td>43000</td>\n      <td>80000</td>\n      <td>529</td>\n      <td>102</td>\n      <td>0</td>\n    </tr>\n    <tr>\n      <th>4</th>\n      <td>5</td>\n      <td>2405</td>\n      <td>CHEMICAL ENGINEERING</td>\n      <td>32260.0</td>\n      <td>21239.0</td>\n      <td>11021.0</td>\n      <td>Engineering</td>\n      <td>0.341631</td>\n      <td>289</td>\n      <td>25694</td>\n      <td>...</td>\n      <td>5180</td>\n      <td>16697</td>\n      <td>1672</td>\n      <td>0.061098</td>\n      <td>65000</td>\n      <td>50000</td>\n      <td>75000</td>\n      <td>18314</td>\n      <td>4440</td>\n      <td>972</td>\n    </tr>\n    <tr>\n      <th>5</th>\n      <td>6</td>\n      <td>2418</td>\n      <td>NUCLEAR ENGINEERING</td>\n      <td>2573.0</td>\n      <td>2200.0</td>\n      <td>373.0</td>\n      <td>Engineering</td>\n      <td>0.144967</td>\n      <td>17</td>\n      <td>1857</td>\n      <td>...</td>\n      <td>264</td>\n      <td>1449</td>\n      <td>400</td>\n      <td>0.177226</td>\n      <td>65000</td>\n      <td>50000</td>\n      <td>102000</td>\n      <td>1142</td>\n      <td>657</td>\n      <td>244</td>\n    </tr>\n    <tr>\n      <th>6</th>\n      <td>7</td>\n      <td>6202</td>\n      <td>ACTUARIAL SCIENCE</td>\n      <td>3777.0</td>\n      <td>2110.0</td>\n      <td>1667.0</td>\n      <td>Business</td>\n      <td>0.441356</td>\n      <td>51</td>\n      <td>2912</td>\n      <td>...</td>\n      <td>296</td>\n      <td>2482</td>\n      <td>308</td>\n      <td>0.095652</td>\n      <td>62000</td>\n      <td>53000</td>\n      <td>72000</td>\n      <td>1768</td>\n      <td>314</td>\n      <td>259</td>\n    </tr>\n    <tr>\n      <th>7</th>\n      <td>8</td>\n      <td>5001</td>\n      <td>ASTRONOMY AND ASTROPHYSICS</td>\n      <td>1792.0</td>\n      <td>832.0</td>\n      <td>960.0</td>\n      <td>Physical Sciences</td>\n      <td>0.535714</td>\n      <td>10</td>\n      <td>1526</td>\n      <td>...</td>\n      <td>553</td>\n      <td>827</td>\n      <td>33</td>\n      <td>0.021167</td>\n      <td>62000</td>\n      <td>31500</td>\n      <td>109000</td>\n      <td>972</td>\n      <td>500</td>\n      <td>220</td>\n    </tr>\n    <tr>\n      <th>8</th>\n      <td>9</td>\n      <td>2414</td>\n      <td>MECHANICAL ENGINEERING</td>\n      <td>91227.0</td>\n      <td>80320.0</td>\n      <td>10907.0</td>\n      <td>Engineering</td>\n      <td>0.119559</td>\n      <td>1029</td>\n      <td>76442</td>\n      <td>...</td>\n      <td>13101</td>\n      <td>54639</td>\n      <td>4650</td>\n      <td>0.057342</td>\n      <td>60000</td>\n      <td>48000</td>\n      <td>70000</td>\n      <td>52844</td>\n      <td>16384</td>\n      <td>3253</td>\n    </tr>\n    <tr>\n      <th>9</th>\n      <td>10</td>\n      <td>2408</td>\n      <td>ELECTRICAL ENGINEERING</td>\n      <td>81527.0</td>\n      <td>65511.0</td>\n      <td>16016.0</td>\n      <td>Engineering</td>\n      <td>0.196450</td>\n      <td>631</td>\n      <td>61928</td>\n      <td>...</td>\n      <td>12695</td>\n      <td>41413</td>\n      <td>3895</td>\n      <td>0.059174</td>\n      <td>60000</td>\n      <td>45000</td>\n      <td>72000</td>\n      <td>45829</td>\n      <td>10874</td>\n      <td>3170</td>\n    </tr>\n    <tr>\n      <th>10</th>\n      <td>11</td>\n      <td>2407</td>\n      <td>COMPUTER ENGINEERING</td>\n      <td>41542.0</td>\n      <td>33258.0</td>\n      <td>8284.0</td>\n      <td>Engineering</td>\n      <td>0.199413</td>\n      <td>399</td>\n      <td>32506</td>\n      <td>...</td>\n      <td>5146</td>\n      <td>23621</td>\n      <td>2275</td>\n      <td>0.065409</td>\n      <td>60000</td>\n      <td>45000</td>\n      <td>75000</td>\n      <td>23694</td>\n      <td>5721</td>\n      <td>980</td>\n    </tr>\n    <tr>\n      <th>11</th>\n      <td>12</td>\n      <td>2401</td>\n      <td>AEROSPACE ENGINEERING</td>\n      <td>15058.0</td>\n      <td>12953.0</td>\n      <td>2105.0</td>\n      <td>Engineering</td>\n      <td>0.139793</td>\n      <td>147</td>\n      <td>11391</td>\n      <td>...</td>\n      <td>2724</td>\n      <td>8790</td>\n      <td>794</td>\n      <td>0.065162</td>\n      <td>60000</td>\n      <td>42000</td>\n      <td>70000</td>\n      <td>8184</td>\n      <td>2425</td>\n      <td>372</td>\n    </tr>\n    <tr>\n      <th>12</th>\n      <td>13</td>\n      <td>2404</td>\n      <td>BIOMEDICAL ENGINEERING</td>\n      <td>14955.0</td>\n      <td>8407.0</td>\n      <td>6548.0</td>\n      <td>Engineering</td>\n      <td>0.437847</td>\n      <td>79</td>\n      <td>10047</td>\n      <td>...</td>\n      <td>2694</td>\n      <td>5986</td>\n      <td>1019</td>\n      <td>0.092084</td>\n      <td>60000</td>\n      <td>36000</td>\n      <td>70000</td>\n      <td>6439</td>\n      <td>2471</td>\n      <td>789</td>\n    </tr>\n    <tr>\n      <th>13</th>\n      <td>14</td>\n      <td>5008</td>\n      <td>MATERIALS SCIENCE</td>\n      <td>4279.0</td>\n      <td>2949.0</td>\n      <td>1330.0</td>\n      <td>Engineering</td>\n      <td>0.310820</td>\n      <td>22</td>\n      <td>3307</td>\n      <td>...</td>\n      <td>878</td>\n      <td>1967</td>\n      <td>78</td>\n      <td>0.023043</td>\n      <td>60000</td>\n      <td>39000</td>\n      <td>65000</td>\n      <td>2626</td>\n      <td>391</td>\n      <td>81</td>\n    </tr>\n    <tr>\n      <th>14</th>\n      <td>15</td>\n      <td>2409</td>\n      <td>ENGINEERING MECHANICS PHYSICS AND SCIENCE</td>\n      <td>4321.0</td>\n      <td>3526.0</td>\n      <td>795.0</td>\n      <td>Engineering</td>\n      <td>0.183985</td>\n      <td>30</td>\n      <td>3608</td>\n      <td>...</td>\n      <td>811</td>\n      <td>2004</td>\n      <td>23</td>\n      <td>0.006334</td>\n      <td>58000</td>\n      <td>25000</td>\n      <td>74000</td>\n      <td>2439</td>\n      <td>947</td>\n      <td>263</td>\n    </tr>\n  </tbody>\n</table>\n<p>15 rows × 21 columns</p>\n</div>"
     },
     "execution_count": 12,
     "metadata": {},
     "output_type": "execute_result"
    }
   ],
   "source": [
    "data.head(n=15)"
   ]
  },
  {
   "cell_type": "code",
   "execution_count": 13,
   "metadata": {
    "hide-output": false,
    "slideshow": {
     "slide_type": "slide"
    },
    "ExecuteTime": {
     "end_time": "2023-10-12T17:15:51.410743Z",
     "start_time": "2023-10-12T17:15:51.129433Z"
    }
   },
   "outputs": [
    {
     "data": {
      "text/plain": "Text(0, 0.5, 'Median salary')"
     },
     "execution_count": 13,
     "metadata": {},
     "output_type": "execute_result"
    },
    {
     "data": {
      "text/plain": "<Figure size 1000x800 with 1 Axes>",
      "image/png": "[encoded data removed]"
     },
     "metadata": {},
     "output_type": "display_data"
    }
   ],
   "source": [
    "import matplotlib.pyplot as plt\n",
    "%matplotlib inline\n",
    "data.plot(x='ShareWomen', y='Median', kind='scatter', figsize=(10, 8), color='red')\n",
    "plt.xlabel('Share of women')\n",
    "plt.ylabel('Median salary')\n",
    "# add a linear regression line to the plot"
   ]
  },
  {
   "cell_type": "code",
   "execution_count": 14,
   "metadata": {
    "hide-output": false,
    "slideshow": {
     "slide_type": "slide"
    },
    "ExecuteTime": {
     "end_time": "2023-10-12T17:15:58.342178Z",
     "start_time": "2023-10-12T17:15:58.251398Z"
    }
   },
   "outputs": [
    {
     "name": "stdout",
     "output_type": "stream",
     "text": [
      "Median        0\n",
      "ShareWomen    1\n",
      "dtype: int64\n"
     ]
    },
    {
     "ename": "LinAlgError",
     "evalue": "0-dimensional array given. Array must be at least two-dimensional",
     "output_type": "error",
     "traceback": [
      "\u001B[0;31m---------------------------------------------------------------------------\u001B[0m",
      "\u001B[0;31mLinAlgError\u001B[0m                               Traceback (most recent call last)",
      "Cell \u001B[0;32mIn[14], line 7\u001B[0m\n\u001B[1;32m      5\u001B[0m plt\u001B[38;5;241m.\u001B[39mylabel(\u001B[38;5;124m'\u001B[39m\u001B[38;5;124mMedian salary\u001B[39m\u001B[38;5;124m'\u001B[39m)\n\u001B[1;32m      6\u001B[0m \u001B[38;5;66;03m# add a linear regression line to the plot\u001B[39;00m\n\u001B[0;32m----> 7\u001B[0m b,_ \u001B[38;5;241m=\u001B[39m ols(X\u001B[38;5;241m=\u001B[39mdata[\u001B[38;5;124m'\u001B[39m\u001B[38;5;124mShareWomen\u001B[39m\u001B[38;5;124m'\u001B[39m],y\u001B[38;5;241m=\u001B[39mdata[\u001B[38;5;124m'\u001B[39m\u001B[38;5;124mMedian\u001B[39m\u001B[38;5;124m'\u001B[39m],verbose\u001B[38;5;241m=\u001B[39m\u001B[38;5;28;01mFalse\u001B[39;00m)\n\u001B[1;32m      8\u001B[0m fn \u001B[38;5;241m=\u001B[39m \u001B[38;5;28;01mlambda\u001B[39;00m x: b[\u001B[38;5;241m0\u001B[39m]\u001B[38;5;241m+\u001B[39mb[\u001B[38;5;241m1\u001B[39m]\u001B[38;5;241m*\u001B[39mx\n\u001B[1;32m      9\u001B[0m xx \u001B[38;5;241m=\u001B[39m np\u001B[38;5;241m.\u001B[39mlinspace(\u001B[38;5;241m0\u001B[39m,\u001B[38;5;241m1\u001B[39m,\u001B[38;5;241m100\u001B[39m)\n",
      "Cell \u001B[0;32mIn[4], line 7\u001B[0m, in \u001B[0;36mols\u001B[0;34m(X, y, addConstant, verbose)\u001B[0m\n\u001B[1;32m      2\u001B[0m \u001B[38;5;28;01mdef\u001B[39;00m \u001B[38;5;21mols\u001B[39m(X,y,addConstant\u001B[38;5;241m=\u001B[39m\u001B[38;5;28;01mTrue\u001B[39;00m,verbose\u001B[38;5;241m=\u001B[39m\u001B[38;5;28;01mTrue\u001B[39;00m):\n\u001B[1;32m      3\u001B[0m \u001B[38;5;250m    \u001B[39m\u001B[38;5;124;03m'''Return the OLS estimates and their variance-covariance matrix for the given data X,y\u001B[39;00m\n\u001B[1;32m      4\u001B[0m \u001B[38;5;124;03m    When addConstant is True, constant is added to X\u001B[39;00m\n\u001B[1;32m      5\u001B[0m \u001B[38;5;124;03m    When verbose is True, a report is printed\u001B[39;00m\n\u001B[1;32m      6\u001B[0m \u001B[38;5;124;03m    '''\u001B[39;00m\n\u001B[0;32m----> 7\u001B[0m     beta \u001B[38;5;241m=\u001B[39m np\u001B[38;5;241m.\u001B[39mlinalg\u001B[38;5;241m.\u001B[39minv(X\u001B[38;5;241m.\u001B[39mT \u001B[38;5;241m@\u001B[39m X ) \u001B[38;5;241m@\u001B[39m X\u001B[38;5;241m.\u001B[39mT \u001B[38;5;241m@\u001B[39m y\n\u001B[1;32m      8\u001B[0m     e \u001B[38;5;241m=\u001B[39m y \u001B[38;5;241m-\u001B[39m X \u001B[38;5;241m@\u001B[39m beta \n\u001B[1;32m      9\u001B[0m     n, k \u001B[38;5;241m=\u001B[39m X\u001B[38;5;241m.\u001B[39mshape \u001B[38;5;66;03m#The number of colums in X is the number of beta's and the number of rows is the number of observations\u001B[39;00m\n",
      "File \u001B[0;32m<__array_function__ internals>:200\u001B[0m, in \u001B[0;36minv\u001B[0;34m(*args, **kwargs)\u001B[0m\n",
      "File \u001B[0;32m/opt/homebrew/anaconda3/lib/python3.11/site-packages/numpy/linalg/linalg.py:532\u001B[0m, in \u001B[0;36minv\u001B[0;34m(a)\u001B[0m\n\u001B[1;32m    471\u001B[0m \u001B[38;5;250m\u001B[39m\u001B[38;5;124;03m\"\"\"\u001B[39;00m\n\u001B[1;32m    472\u001B[0m \u001B[38;5;124;03mCompute the (multiplicative) inverse of a matrix.\u001B[39;00m\n\u001B[1;32m    473\u001B[0m \n\u001B[0;32m   (...)\u001B[0m\n\u001B[1;32m    529\u001B[0m \n\u001B[1;32m    530\u001B[0m \u001B[38;5;124;03m\"\"\"\u001B[39;00m\n\u001B[1;32m    531\u001B[0m a, wrap \u001B[38;5;241m=\u001B[39m _makearray(a)\n\u001B[0;32m--> 532\u001B[0m _assert_stacked_2d(a)\n\u001B[1;32m    533\u001B[0m _assert_stacked_square(a)\n\u001B[1;32m    534\u001B[0m t, result_t \u001B[38;5;241m=\u001B[39m _commonType(a)\n",
      "File \u001B[0;32m/opt/homebrew/anaconda3/lib/python3.11/site-packages/numpy/linalg/linalg.py:183\u001B[0m, in \u001B[0;36m_assert_stacked_2d\u001B[0;34m(*arrays)\u001B[0m\n\u001B[1;32m    181\u001B[0m \u001B[38;5;28;01mfor\u001B[39;00m a \u001B[38;5;129;01min\u001B[39;00m arrays:\n\u001B[1;32m    182\u001B[0m     \u001B[38;5;28;01mif\u001B[39;00m a\u001B[38;5;241m.\u001B[39mndim \u001B[38;5;241m<\u001B[39m \u001B[38;5;241m2\u001B[39m:\n\u001B[0;32m--> 183\u001B[0m         \u001B[38;5;28;01mraise\u001B[39;00m LinAlgError(\u001B[38;5;124m'\u001B[39m\u001B[38;5;132;01m%d\u001B[39;00m\u001B[38;5;124m-dimensional array given. Array must be \u001B[39m\u001B[38;5;124m'\u001B[39m\n\u001B[1;32m    184\u001B[0m                 \u001B[38;5;124m'\u001B[39m\u001B[38;5;124mat least two-dimensional\u001B[39m\u001B[38;5;124m'\u001B[39m \u001B[38;5;241m%\u001B[39m a\u001B[38;5;241m.\u001B[39mndim)\n",
      "\u001B[0;31mLinAlgError\u001B[0m: 0-dimensional array given. Array must be at least two-dimensional"
     ]
    },
    {
     "data": {
      "text/plain": "<Figure size 1000x800 with 1 Axes>",
      "image/png": "[encoded data removed]"
     },
     "metadata": {},
     "output_type": "display_data"
    }
   ],
   "source": [
    "print(data[['Median','ShareWomen']].isnull().sum()) # check if there are NaNs in the data!\n",
    "data1 = data[['Median','ShareWomen']].dropna()  # drop NaNs\n",
    "data1.plot(x='ShareWomen', y='Median', kind='scatter', figsize=(10, 8), color='red')\n",
    "plt.xlabel('Share of women')\n",
    "plt.ylabel('Median salary')\n",
    "# add a linear regression line to the plot\n",
    "b,_ = ols(X=data['ShareWomen'],y=data['Median'],verbose=False)\n",
    "fn = lambda x: b[0]+b[1]*x\n",
    "xx = np.linspace(0,1,100)\n",
    "plt.plot(xx,fn(xx),color='navy',linewidth=3)\n",
    "plt.show()"
   ]
  },
  {
   "cell_type": "code",
   "execution_count": 15,
   "metadata": {
    "hide-output": false,
    "slideshow": {
     "slide_type": "slide"
    },
    "ExecuteTime": {
     "end_time": "2023-10-12T17:15:59.141859Z",
     "start_time": "2023-10-12T17:15:59.137285Z"
    }
   },
   "outputs": [],
   "source": [
    "# create fraction variables\n",
    "data.drop(index=data[data['Total']==0].index,inplace=True)  # drop zero Totals\n",
    "data.drop(index=data[data['Employed']==0].index,inplace=True)  # drop zero Employed\n",
    "data['Employment rate'] = data['Employed'] / data['Total']\n",
    "data['Fulltime rate'] = data['Full_time'] / data['Employed']\n",
    "data2 = data[['Median','ShareWomen','Employment rate','Fulltime rate']].dropna()  # drop NaNs\n",
    "y = data2['Median']/1000  # rescale salary"
   ]
  },
  {
   "cell_type": "code",
   "execution_count": 16,
   "metadata": {
    "hide-output": false,
    "slideshow": {
     "slide_type": "slide"
    },
    "ExecuteTime": {
     "end_time": "2023-10-12T17:16:00.499625Z",
     "start_time": "2023-10-12T17:16:00.483072Z"
    }
   },
   "outputs": [
    {
     "ename": "ValueError",
     "evalue": "matrices are not aligned",
     "output_type": "error",
     "traceback": [
      "\u001B[0;31m---------------------------------------------------------------------------\u001B[0m",
      "\u001B[0;31mValueError\u001B[0m                                Traceback (most recent call last)",
      "\u001B[0;32m/var/folders/vc/jh4_thtx2hscv5q9v2_y0thr0000gn/T/ipykernel_79428/3184859990.py\u001B[0m in \u001B[0;36m?\u001B[0;34m()\u001B[0m\n\u001B[1;32m      1\u001B[0m \u001B[0;31m# run the full model\u001B[0m\u001B[0;34m\u001B[0m\u001B[0;34m\u001B[0m\u001B[0m\n\u001B[0;32m----> 2\u001B[0;31m \u001B[0mols\u001B[0m\u001B[0;34m(\u001B[0m\u001B[0mdata2\u001B[0m\u001B[0;34m[\u001B[0m\u001B[0;34m[\u001B[0m\u001B[0;34m'ShareWomen'\u001B[0m\u001B[0;34m,\u001B[0m\u001B[0;34m'Employment rate'\u001B[0m\u001B[0;34m,\u001B[0m\u001B[0;34m'Fulltime rate'\u001B[0m\u001B[0;34m]\u001B[0m\u001B[0;34m]\u001B[0m\u001B[0;34m,\u001B[0m\u001B[0my\u001B[0m\u001B[0;34m)\u001B[0m\u001B[0;34m;\u001B[0m\u001B[0;34m\u001B[0m\u001B[0;34m\u001B[0m\u001B[0m\n\u001B[0m",
      "\u001B[0;32m/var/folders/vc/jh4_thtx2hscv5q9v2_y0thr0000gn/T/ipykernel_79428/3357045563.py\u001B[0m in \u001B[0;36m?\u001B[0;34m(X, y, addConstant, verbose)\u001B[0m\n\u001B[1;32m      4\u001B[0m     \u001B[0mWhen\u001B[0m \u001B[0maddConstant\u001B[0m \u001B[0;32mis\u001B[0m \u001B[0;32mTrue\u001B[0m\u001B[0;34m,\u001B[0m \u001B[0mconstant\u001B[0m \u001B[0;32mis\u001B[0m \u001B[0madded\u001B[0m \u001B[0mto\u001B[0m \u001B[0mX\u001B[0m\u001B[0;34m\u001B[0m\u001B[0;34m\u001B[0m\u001B[0m\n\u001B[1;32m      5\u001B[0m     \u001B[0mWhen\u001B[0m \u001B[0mverbose\u001B[0m \u001B[0;32mis\u001B[0m \u001B[0;32mTrue\u001B[0m\u001B[0;34m,\u001B[0m \u001B[0ma\u001B[0m \u001B[0mreport\u001B[0m \u001B[0;32mis\u001B[0m \u001B[0mprinted\u001B[0m\u001B[0;34m\u001B[0m\u001B[0;34m\u001B[0m\u001B[0m\n\u001B[1;32m      6\u001B[0m     '''\n\u001B[1;32m      7\u001B[0m     \u001B[0mbeta\u001B[0m \u001B[0;34m=\u001B[0m \u001B[0mnp\u001B[0m\u001B[0;34m.\u001B[0m\u001B[0mlinalg\u001B[0m\u001B[0;34m.\u001B[0m\u001B[0minv\u001B[0m\u001B[0;34m(\u001B[0m\u001B[0mX\u001B[0m\u001B[0;34m.\u001B[0m\u001B[0mT\u001B[0m \u001B[0;34m@\u001B[0m \u001B[0mX\u001B[0m \u001B[0;34m)\u001B[0m \u001B[0;34m@\u001B[0m \u001B[0mX\u001B[0m\u001B[0;34m.\u001B[0m\u001B[0mT\u001B[0m \u001B[0;34m@\u001B[0m \u001B[0my\u001B[0m\u001B[0;34m\u001B[0m\u001B[0;34m\u001B[0m\u001B[0m\n\u001B[0;32m----> 8\u001B[0;31m     \u001B[0me\u001B[0m \u001B[0;34m=\u001B[0m \u001B[0my\u001B[0m \u001B[0;34m-\u001B[0m \u001B[0mX\u001B[0m \u001B[0;34m@\u001B[0m \u001B[0mbeta\u001B[0m\u001B[0;34m\u001B[0m\u001B[0;34m\u001B[0m\u001B[0m\n\u001B[0m\u001B[1;32m      9\u001B[0m     \u001B[0mn\u001B[0m\u001B[0;34m,\u001B[0m \u001B[0mk\u001B[0m \u001B[0;34m=\u001B[0m \u001B[0mX\u001B[0m\u001B[0;34m.\u001B[0m\u001B[0mshape\u001B[0m \u001B[0;31m#The number of colums in X is the number of beta's and the number of rows is the number of observations\u001B[0m\u001B[0;34m\u001B[0m\u001B[0;34m\u001B[0m\u001B[0m\n\u001B[1;32m     10\u001B[0m     \u001B[0ms2\u001B[0m \u001B[0;34m=\u001B[0m \u001B[0me\u001B[0m\u001B[0;34m.\u001B[0m\u001B[0mT\u001B[0m \u001B[0;34m@\u001B[0m \u001B[0me\u001B[0m \u001B[0;34m/\u001B[0m\u001B[0;34m(\u001B[0m\u001B[0mn\u001B[0m\u001B[0;34m-\u001B[0m\u001B[0mk\u001B[0m\u001B[0;34m)\u001B[0m\u001B[0;34m\u001B[0m\u001B[0;34m\u001B[0m\u001B[0m\n\u001B[1;32m     11\u001B[0m     \u001B[0mSigma\u001B[0m \u001B[0;34m=\u001B[0m \u001B[0ms2\u001B[0m \u001B[0;34m*\u001B[0m \u001B[0;34m(\u001B[0m\u001B[0mnp\u001B[0m\u001B[0;34m.\u001B[0m\u001B[0mlinalg\u001B[0m\u001B[0;34m.\u001B[0m\u001B[0minv\u001B[0m\u001B[0;34m(\u001B[0m\u001B[0mX\u001B[0m\u001B[0;34m.\u001B[0m\u001B[0mT\u001B[0m \u001B[0;34m@\u001B[0m \u001B[0mX\u001B[0m\u001B[0;34m)\u001B[0m\u001B[0;34m)\u001B[0m\u001B[0;34m\u001B[0m\u001B[0;34m\u001B[0m\u001B[0m\n",
      "\u001B[0;32m/opt/homebrew/anaconda3/lib/python3.11/site-packages/pandas/core/frame.py\u001B[0m in \u001B[0;36m?\u001B[0;34m(self, other)\u001B[0m\n\u001B[1;32m   1626\u001B[0m     \u001B[0;32mdef\u001B[0m \u001B[0m__matmul__\u001B[0m\u001B[0;34m(\u001B[0m\u001B[0mself\u001B[0m\u001B[0;34m,\u001B[0m \u001B[0mother\u001B[0m\u001B[0;34m:\u001B[0m \u001B[0mAnyArrayLike\u001B[0m \u001B[0;34m|\u001B[0m \u001B[0mDataFrame\u001B[0m\u001B[0;34m)\u001B[0m \u001B[0;34m->\u001B[0m \u001B[0mDataFrame\u001B[0m \u001B[0;34m|\u001B[0m \u001B[0mSeries\u001B[0m\u001B[0;34m:\u001B[0m\u001B[0;34m\u001B[0m\u001B[0;34m\u001B[0m\u001B[0m\n\u001B[1;32m   1627\u001B[0m         \"\"\"\n\u001B[1;32m   1628\u001B[0m         \u001B[0mMatrix\u001B[0m \u001B[0mmultiplication\u001B[0m \u001B[0musing\u001B[0m \u001B[0mbinary\u001B[0m\u001B[0;31m \u001B[0m\u001B[0;31m`\u001B[0m\u001B[0;34m@\u001B[0m\u001B[0;31m`\u001B[0m \u001B[0moperator\u001B[0m \u001B[0;32min\u001B[0m \u001B[0mPython\u001B[0m\u001B[0;34m>=\u001B[0m\u001B[0;36m3.5\u001B[0m\u001B[0;34m.\u001B[0m\u001B[0;34m\u001B[0m\u001B[0;34m\u001B[0m\u001B[0m\n\u001B[1;32m   1629\u001B[0m         \"\"\"\n\u001B[0;32m-> 1630\u001B[0;31m         \u001B[0;32mreturn\u001B[0m \u001B[0mself\u001B[0m\u001B[0;34m.\u001B[0m\u001B[0mdot\u001B[0m\u001B[0;34m(\u001B[0m\u001B[0mother\u001B[0m\u001B[0;34m)\u001B[0m\u001B[0;34m\u001B[0m\u001B[0;34m\u001B[0m\u001B[0m\n\u001B[0m",
      "\u001B[0;32m/opt/homebrew/anaconda3/lib/python3.11/site-packages/pandas/core/frame.py\u001B[0m in \u001B[0;36m?\u001B[0;34m(self, other)\u001B[0m\n\u001B[1;32m   1579\u001B[0m         \"\"\"\n\u001B[1;32m   1580\u001B[0m         \u001B[0;32mif\u001B[0m \u001B[0misinstance\u001B[0m\u001B[0;34m(\u001B[0m\u001B[0mother\u001B[0m\u001B[0;34m,\u001B[0m \u001B[0;34m(\u001B[0m\u001B[0mSeries\u001B[0m\u001B[0;34m,\u001B[0m \u001B[0mDataFrame\u001B[0m\u001B[0;34m)\u001B[0m\u001B[0;34m)\u001B[0m\u001B[0;34m:\u001B[0m\u001B[0;34m\u001B[0m\u001B[0;34m\u001B[0m\u001B[0m\n\u001B[1;32m   1581\u001B[0m             \u001B[0mcommon\u001B[0m \u001B[0;34m=\u001B[0m \u001B[0mself\u001B[0m\u001B[0;34m.\u001B[0m\u001B[0mcolumns\u001B[0m\u001B[0;34m.\u001B[0m\u001B[0munion\u001B[0m\u001B[0;34m(\u001B[0m\u001B[0mother\u001B[0m\u001B[0;34m.\u001B[0m\u001B[0mindex\u001B[0m\u001B[0;34m)\u001B[0m\u001B[0;34m\u001B[0m\u001B[0;34m\u001B[0m\u001B[0m\n\u001B[1;32m   1582\u001B[0m             \u001B[0;32mif\u001B[0m \u001B[0mlen\u001B[0m\u001B[0;34m(\u001B[0m\u001B[0mcommon\u001B[0m\u001B[0;34m)\u001B[0m \u001B[0;34m>\u001B[0m \u001B[0mlen\u001B[0m\u001B[0;34m(\u001B[0m\u001B[0mself\u001B[0m\u001B[0;34m.\u001B[0m\u001B[0mcolumns\u001B[0m\u001B[0;34m)\u001B[0m \u001B[0;32mor\u001B[0m \u001B[0mlen\u001B[0m\u001B[0;34m(\u001B[0m\u001B[0mcommon\u001B[0m\u001B[0;34m)\u001B[0m \u001B[0;34m>\u001B[0m \u001B[0mlen\u001B[0m\u001B[0;34m(\u001B[0m\u001B[0mother\u001B[0m\u001B[0;34m.\u001B[0m\u001B[0mindex\u001B[0m\u001B[0;34m)\u001B[0m\u001B[0;34m:\u001B[0m\u001B[0;34m\u001B[0m\u001B[0;34m\u001B[0m\u001B[0m\n\u001B[0;32m-> 1583\u001B[0;31m                 \u001B[0;32mraise\u001B[0m \u001B[0mValueError\u001B[0m\u001B[0;34m(\u001B[0m\u001B[0;34m\"matrices are not aligned\"\u001B[0m\u001B[0;34m)\u001B[0m\u001B[0;34m\u001B[0m\u001B[0;34m\u001B[0m\u001B[0m\n\u001B[0m\u001B[1;32m   1584\u001B[0m \u001B[0;34m\u001B[0m\u001B[0m\n\u001B[1;32m   1585\u001B[0m             \u001B[0mleft\u001B[0m \u001B[0;34m=\u001B[0m \u001B[0mself\u001B[0m\u001B[0;34m.\u001B[0m\u001B[0mreindex\u001B[0m\u001B[0;34m(\u001B[0m\u001B[0mcolumns\u001B[0m\u001B[0;34m=\u001B[0m\u001B[0mcommon\u001B[0m\u001B[0;34m,\u001B[0m \u001B[0mcopy\u001B[0m\u001B[0;34m=\u001B[0m\u001B[0;32mFalse\u001B[0m\u001B[0;34m)\u001B[0m\u001B[0;34m\u001B[0m\u001B[0;34m\u001B[0m\u001B[0m\n\u001B[1;32m   1586\u001B[0m             \u001B[0mright\u001B[0m \u001B[0;34m=\u001B[0m \u001B[0mother\u001B[0m\u001B[0;34m.\u001B[0m\u001B[0mreindex\u001B[0m\u001B[0;34m(\u001B[0m\u001B[0mindex\u001B[0m\u001B[0;34m=\u001B[0m\u001B[0mcommon\u001B[0m\u001B[0;34m,\u001B[0m \u001B[0mcopy\u001B[0m\u001B[0;34m=\u001B[0m\u001B[0;32mFalse\u001B[0m\u001B[0;34m)\u001B[0m\u001B[0;34m\u001B[0m\u001B[0;34m\u001B[0m\u001B[0m\n",
      "\u001B[0;31mValueError\u001B[0m: matrices are not aligned"
     ]
    }
   ],
   "source": [
    "# run the full model\n",
    "ols(data2[['ShareWomen','Employment rate','Fulltime rate']],y);"
   ]
  },
  {
   "cell_type": "markdown",
   "metadata": {
    "slideshow": {
     "slide_type": "slide"
    }
   },
   "source": [
    "#### Further learning resources\n",
    "\n",
    "- Regression analysis using `sklearn` library\n",
    "  [https://datascience.quantecon.org/applications/regression.html](https://datascience.quantecon.org/applications/regression.html)  "
   ]
  },
  {
   "cell_type": "code",
   "execution_count": null,
   "outputs": [],
   "source": [],
   "metadata": {
    "collapsed": false
   }
  }
 ],
 "metadata": {
  "celltoolbar": "Slideshow",
  "date": 1.6274749860993931E9,
  "filename": "17_linear_reg.rst",
  "kernelspec": {
   "display_name": "Python 3 (ipykernel)",
   "language": "python",
   "name": "python3"
  },
  "language_info": {
   "codemirror_mode": {
    "name": "ipython",
    "version": 3
   },
   "file_extension": ".py",
   "mimetype": "text/x-python",
   "name": "python",
   "nbconvert_exporter": "python",
   "pygments_lexer": "ipython3",
   "version": "3.11.4"
  },
  "title": "Foundations of Computational Economics #17"
 },
 "nbformat": 4,
 "nbformat_minor": 4
}
