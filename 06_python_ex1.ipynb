{
 "cells": [
  {
   "cell_type": "markdown",
   "metadata": {
    "slideshow": {
     "slide_type": "slide"
    }
   },
   "source": [
    "# Foundations of Computational Economics #6\n",
    "\n",
    "by Fedor Iskhakov, ANU\n",
    "\n",
    "<img src=\"_static/img/dag3logo.png\" style=\"width:256px;\">"
   ]
  },
  {
   "cell_type": "markdown",
   "metadata": {
    "slideshow": {
     "slide_type": "fragment"
    }
   },
   "source": [
    "## Two simple examples\n",
    "\n",
    "<img src=\"_static/img/lab.png\" style=\"width:64px;\">"
   ]
  },
  {
   "cell_type": "markdown",
   "metadata": {
    "slideshow": {
     "slide_type": "subslide"
    }
   },
   "source": [
    "<img src=\"_static/img/youtube.png\" style=\"width:65px;\">\n",
    "\n",
    "[https://youtu.be/UGExPIDwDMs](https://youtu.be/UGExPIDwDMs)\n",
    "\n",
    "Description: Indexing problem and its inverse, base-N number conversion"
   ]
  },
  {
   "cell_type": "markdown",
   "metadata": {
    "slideshow": {
     "slide_type": "slide"
    }
   },
   "source": [
    "### Example 1\n",
    "\n",
    "Code up a function to convert $ (i,j) $ index in a two-dimensional array\n",
    "into a single index $ k $ which swipes the matrix by column.\n",
    "Also code up the inverse of this function."
   ]
  },
  {
   "cell_type": "code",
   "execution_count": 2,
   "metadata": {
    "hide-output": false,
    "slideshow": {
     "slide_type": "slide"
    }
   },
   "outputs": [],
   "source": [
    "# code here\n",
    "def k(i,j,r) -> int:\n",
    "    '''Converts a 2d matrix to a 1-d matrix with index $k$ instead of (i,j)\n",
    "    r = is the number of rows of the array\n",
    "    all the thinking and notes are on the iPad under the CompEcon course\n",
    "    Note that the fucntion assumes the matrix starts from index 1, meaning i, j , k can't be less than 1.\n",
    "    '''\n",
    "    return (r * (j-1) + i)\n",
    "\n",
    "def inverse_k(k,r) -> (int,int):\n",
    "    '''This is the inverse of the previous function, here you put the k you got in the first fucntion and number of rows in the matrix and you get (i,j) indexs back'''\n",
    "    j = (k // r) + 1 \n",
    "    i = k % r \n",
    "    return (i,j)\n",
    "\n",
    "\n",
    "\n",
    "\n"
   ]
  },
  {
   "cell_type": "code",
   "execution_count": null,
   "metadata": {
    "hide-output": false,
    "slideshow": {
     "slide_type": "slide"
    }
   },
   "outputs": [],
   "source": [
    "def k(i,j,m,base0=True):\n",
    "    '''Convert (i,j) indexes in a two-dimensional array\n",
    "    with m rows into a single index computed column-wise\n",
    "    '''\n",
    "    if base0:\n",
    "        return j*m + i\n",
    "    else:\n",
    "        return (j-1)*m + i\n",
    "\n",
    "def ik(k,m,base0=True):\n",
    "    '''Convert k index in a two-dimensional array\n",
    "    with m rows into a pair of (i,j) indexes\n",
    "    '''\n",
    "    if base0:\n",
    "        j = k//m\n",
    "        i = k%m\n",
    "    else:\n",
    "        j = k//m + 1\n",
    "        i = k%m\n",
    "    return i,j\n",
    "\n",
    "m=5\n",
    "for i in range(5):\n",
    "    for j in range(10):\n",
    "        k0 = k(i,j,m)\n",
    "        i1,j1 = ik(k0,m)\n",
    "        print('(%d,%d) --> %d --> (%d,%d)'%(i,j,k0,i1,j1))"
   ]
  },
  {
   "cell_type": "code",
   "execution_count": null,
   "metadata": {
    "hide-output": false,
    "slideshow": {
     "slide_type": "slide"
    }
   },
   "outputs": [],
   "source": [
    "# Running the check for base1 reveals the bug when i=5!\n",
    "\n",
    "m=5\n",
    "for i in range(1,m+1):\n",
    "    for j in range(1,11):\n",
    "        k0 = k(i,j,m,base0=False)\n",
    "        i1,j1 = ik(k0,m,base0=False)\n",
    "        print('(%d,%d) --> %d --> (%d,%d)'%(i,j,k0,i1,j1))\n",
    "\n",
    "# So, the correct inverse conversion in base1 should be:\n",
    "\n",
    "def ik(k,m,base0=True):\n",
    "    '''Convert k index in a two-dimensional array\n",
    "    with m rows into a pair of (i,j) indexes\n",
    "    '''\n",
    "    if base0:\n",
    "        j = k//m\n",
    "        i = k%m\n",
    "    else:\n",
    "        j = (k-1)//m + 1\n",
    "        i = (k-1)%m + 1\n",
    "    return i,j"
   ]
  },
  {
   "cell_type": "markdown",
   "metadata": {
    "slideshow": {
     "slide_type": "slide"
    }
   },
   "source": [
    "### Example 2\n",
    "\n",
    "Write a function to converter a decimal number into a given base. Return the result as string."
   ]
  },
  {
   "cell_type": "code",
   "execution_count": 15,
   "metadata": {
    "hide-output": false,
    "slideshow": {
     "slide_type": "slide"
    }
   },
   "outputs": [
    {
     "ename": "IndentationError",
     "evalue": "expected an indented block after 'while' statement on line 11 (2168544354.py, line 16)",
     "output_type": "error",
     "traceback": [
      "\u001b[0;36m  Cell \u001b[0;32mIn[15], line 16\u001b[0;36m\u001b[0m\n\u001b[0;31m    print(dec2baseN(0))\u001b[0m\n\u001b[0m                       ^\u001b[0m\n\u001b[0;31mIndentationError\u001b[0m\u001b[0;31m:\u001b[0m expected an indented block after 'while' statement on line 11\n"
     ]
    }
   ],
   "source": [
    "# code here\n",
    "import string\n",
    "def dec2baseN(num=0, base = 2) -> str:\n",
    "    '''A function that gets a number in base 10 and returns the number is a different base, based on the input, the returned value is in a string.'''\n",
    "    digits = list(str(i) for i in range(10)) +  list(string.ascii_lowercase) #digits is a list of all the lower case chars in the english alphabet and all of the number between 0 and 9\n",
    "    # print(type(letters))\n",
    "    assert 2 <= base <= len(digits), f\"Number of base must be between 2 and {len(digits)}\"\n",
    "    if num == 0: #Base case for 0\n",
    "        return 0\n",
    "    output = []\n",
    "    while num > 0 : \n",
    "        \n",
    "\n",
    "    \n",
    "    \n",
    "\n",
    "print(dec2baseN(0))"
   ]
  },
  {
   "cell_type": "code",
   "execution_count": 16,
   "metadata": {
    "hide-output": false,
    "slideshow": {
     "slide_type": "slide"
    }
   },
   "outputs": [
    {
     "name": "stdout",
     "output_type": "stream",
     "text": [
      "3 in base 36 is 3\n",
      "3 in base 32 is 3\n",
      "3 in base 28 is 3\n",
      "3 in base 24 is 3\n",
      "3 in base 20 is 3\n",
      "3 in base 16 is 3\n",
      "3 in base 12 is 3\n",
      "3 in base 8 is 3\n",
      "3 in base 4 is 3\n",
      "\n",
      "8 in base 36 is 8\n",
      "8 in base 32 is 8\n",
      "8 in base 28 is 8\n",
      "8 in base 24 is 8\n",
      "8 in base 20 is 8\n",
      "8 in base 16 is 8\n",
      "8 in base 12 is 8\n",
      "8 in base 8 is 10\n",
      "8 in base 4 is 20\n",
      "\n",
      "35 in base 36 is z\n",
      "35 in base 32 is 13\n",
      "35 in base 28 is 17\n",
      "35 in base 24 is 1b\n",
      "35 in base 20 is 1f\n",
      "35 in base 16 is 23\n",
      "35 in base 12 is 2b\n",
      "35 in base 8 is 43\n",
      "35 in base 4 is 203\n",
      "\n",
      "574 in base 36 is fy\n",
      "574 in base 32 is hu\n",
      "574 in base 28 is ke\n",
      "574 in base 24 is nm\n",
      "574 in base 20 is 18e\n",
      "574 in base 16 is 23e\n",
      "574 in base 12 is 3ba\n",
      "574 in base 8 is 1076\n",
      "574 in base 4 is 20332\n",
      "\n",
      "1023523 in base 36 is lxr7\n",
      "1023523 in base 32 is v7h3\n",
      "1023523 in base 28 is 1iheb\n",
      "1023523 in base 24 is 320mj\n",
      "1023523 in base 20 is 67ig3\n",
      "1023523 in base 16 is f9e23\n",
      "1023523 in base 12 is 414397\n",
      "1023523 in base 8 is 3717043\n",
      "1023523 in base 4 is 3321320203\n",
      "\n",
      "9999 in base 36 is 7pr\n",
      "9999 in base 32 is 9of\n",
      "9999 in base 28 is cl3\n",
      "9999 in base 24 is h8f\n",
      "9999 in base 20 is 14jj\n",
      "9999 in base 16 is 270f\n",
      "9999 in base 12 is 5953\n",
      "9999 in base 8 is 23417\n",
      "9999 in base 4 is 2130033\n",
      "\n"
     ]
    }
   ],
   "source": [
    "def baseN(x,base=2):\n",
    "    '''Converts given number to given base'''\n",
    "    digits = [str(i) for i in range(10)] + [chr(i) for i in range(97,123)]\n",
    "    assert 2 <= base <= len(digits),'Number base must be between 2 and %d'%(len(digits))\n",
    "    if x == 0:\n",
    "        return '0'\n",
    "    out = []\n",
    "    while x>0:\n",
    "        i = x%base\n",
    "        out.append(digits[i])\n",
    "        x = x//base\n",
    "    return ''.join(out[::-1])\n",
    "\n",
    "for n in [3,8,35,574,1023523,9999]:\n",
    "    for b in range(36,1,-4):\n",
    "        print('%d in base %d is %s' % (n,b,baseN(n,b)))\n",
    "    print()"
   ]
  }
 ],
 "metadata": {
  "celltoolbar": "Slideshow",
  "date": 1628246895.2099788,
  "filename": "06_python_ex1.rst",
  "kernelspec": {
   "display_name": "Python",
   "language": "python3",
   "name": "python3"
  },
  "language_info": {
   "codemirror_mode": {
    "name": "ipython",
    "version": 3
   },
   "file_extension": ".py",
   "mimetype": "text/x-python",
   "name": "python",
   "nbconvert_exporter": "python",
   "pygments_lexer": "ipython3",
   "version": "3.11.4"
  },
  "title": "Foundations of Computational Economics #6"
 },
 "nbformat": 4,
 "nbformat_minor": 4
}
